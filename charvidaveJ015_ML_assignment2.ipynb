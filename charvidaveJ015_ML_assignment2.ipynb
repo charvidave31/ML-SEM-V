{
 "cells": [
  {
   "cell_type": "markdown",
   "metadata": {},
   "source": [
    "# Machine Learning(ML): Assignment 2\n",
    "### Charvi Dave J015"
   ]
  },
  {
   "cell_type": "markdown",
   "metadata": {},
   "source": [
    "#### Task1: Prove multiplication properties of matrices "
   ]
  },
  {
   "cell_type": "code",
   "execution_count": 1,
   "metadata": {},
   "outputs": [],
   "source": [
    "import numpy as np\n",
    "P= np.array([[5,1,1],[7,8,9],[75,5,89]])\n",
    "Q= np.array([[6,8,12],[13,12,11],[8,9,10]])\n",
    "R= np.array([[5,1,21],[65,66,67],[68,69,70]])\n",
    "I= np.identity(3)"
   ]
  },
  {
   "cell_type": "code",
   "execution_count": 2,
   "metadata": {},
   "outputs": [
    {
     "name": "stdout",
     "output_type": "stream",
     "text": [
      "Matrix P: \n",
      " [[ 5  1  1]\n",
      " [ 7  8  9]\n",
      " [75  5 89]]\n",
      "Matrix Q: \n",
      " [[ 6  8 12]\n",
      " [13 12 11]\n",
      " [ 8  9 10]]\n",
      "Matrix R: \n",
      " [[ 5  1 21]\n",
      " [65 66 67]\n",
      " [68 69 70]]\n",
      "Identity Martix: \n",
      " [[1. 0. 0.]\n",
      " [0. 1. 0.]\n",
      " [0. 0. 1.]]\n"
     ]
    }
   ],
   "source": [
    "print('Matrix P: \\n',P)\n",
    "print('Matrix Q: \\n',Q)\n",
    "print('Matrix R: \\n',R)\n",
    "print('Identity Martix: \\n',I)"
   ]
  },
  {
   "cell_type": "markdown",
   "metadata": {},
   "source": [
    "#### Commutative Property (does not hold true): "
   ]
  },
  {
   "cell_type": "code",
   "execution_count": 3,
   "metadata": {},
   "outputs": [],
   "source": [
    "P_dot_Q = P.dot(Q)\n",
    "Q_dot_P = Q.dot(P)"
   ]
  },
  {
   "cell_type": "code",
   "execution_count": 4,
   "metadata": {},
   "outputs": [
    {
     "name": "stdout",
     "output_type": "stream",
     "text": [
      "P.Q: \n",
      " [[  51   61   81]\n",
      " [ 218  233  262]\n",
      " [1227 1461 1845]]\n",
      "Q.P: \n",
      " [[ 986  130 1146]\n",
      " [ 974  164 1100]\n",
      " [ 853  130  979]]\n"
     ]
    }
   ],
   "source": [
    "print('P.Q: \\n',P_dot_Q)\n",
    "print('Q.P: \\n',Q_dot_P)"
   ]
  },
  {
   "cell_type": "markdown",
   "metadata": {},
   "source": [
    "#### Associative property: "
   ]
  },
  {
   "cell_type": "code",
   "execution_count": 5,
   "metadata": {},
   "outputs": [],
   "source": [
    "PQ_R = np.dot(P, Q).dot(R)\n",
    "P_QR = P.dot(np.dot(Q, R))"
   ]
  },
  {
   "cell_type": "code",
   "execution_count": 6,
   "metadata": {},
   "outputs": [
    {
     "name": "stdout",
     "output_type": "stream",
     "text": [
      "(P.Q).R: \n",
      " [[  9728   9666  10828]\n",
      " [ 34051  33674  38529]\n",
      " [226560 224958 252804]]\n",
      "(P.(Q.R): \n",
      ") [[  9728   9666  10828]\n",
      " [ 34051  33674  38529]\n",
      " [226560 224958 252804]]\n"
     ]
    }
   ],
   "source": [
    "print('(P.Q).R: \\n',PQ_R)\n",
    "print('(P.(Q.R): \\n)',P_QR)"
   ]
  },
  {
   "cell_type": "markdown",
   "metadata": {},
   "source": [
    "#### Distributive property: "
   ]
  },
  {
   "cell_type": "code",
   "execution_count": 7,
   "metadata": {},
   "outputs": [],
   "source": [
    "lhs = np.dot(P, Q+R)\n",
    "rhs = np.dot(P, Q) + np.dot(P, R)"
   ]
  },
  {
   "cell_type": "code",
   "execution_count": 8,
   "metadata": {},
   "outputs": [
    {
     "name": "stdout",
     "output_type": "stream",
     "text": [
      "P.(Q+R): \n",
      " [[ 209  201  323]\n",
      " [1385 1389 1575]\n",
      " [7979 8007 9985]]\n",
      "P.Q + P.R: \n",
      " [[ 209  201  323]\n",
      " [1385 1389 1575]\n",
      " [7979 8007 9985]]\n"
     ]
    }
   ],
   "source": [
    "print('P.(Q+R): \\n',lhs)\n",
    "print('P.Q + P.R: \\n',rhs)"
   ]
  },
  {
   "cell_type": "markdown",
   "metadata": {},
   "source": [
    "#### Identity property: "
   ]
  },
  {
   "cell_type": "code",
   "execution_count": 9,
   "metadata": {},
   "outputs": [],
   "source": [
    "PI = np.dot(P, I)\n",
    "IP = np.dot(I, P)"
   ]
  },
  {
   "cell_type": "code",
   "execution_count": 10,
   "metadata": {},
   "outputs": [
    {
     "name": "stdout",
     "output_type": "stream",
     "text": [
      "P.I: \n",
      " [[ 5.  1.  1.]\n",
      " [ 7.  8.  9.]\n",
      " [75.  5. 89.]]\n",
      "I.P: \n",
      " [[ 5.  1.  1.]\n",
      " [ 7.  8.  9.]\n",
      " [75.  5. 89.]]\n"
     ]
    }
   ],
   "source": [
    "print('P.I: \\n',PI)\n",
    "print('I.P: \\n',IP)"
   ]
  },
  {
   "cell_type": "markdown",
   "metadata": {},
   "source": [
    "#### Multiplicative property of zeros: "
   ]
  },
  {
   "cell_type": "code",
   "execution_count": 11,
   "metadata": {},
   "outputs": [],
   "source": [
    "a = np.zeros(9).reshape(3, 3)\n",
    "lhs = np.dot(P, a)\n",
    "rhs = np.dot(a, P)"
   ]
  },
  {
   "cell_type": "code",
   "execution_count": 12,
   "metadata": {},
   "outputs": [
    {
     "name": "stdout",
     "output_type": "stream",
     "text": [
      "P.0: \n",
      " [[0. 0. 0.]\n",
      " [0. 0. 0.]\n",
      " [0. 0. 0.]]\n",
      "0.P: \n",
      " [[0. 0. 0.]\n",
      " [0. 0. 0.]\n",
      " [0. 0. 0.]]\n"
     ]
    }
   ],
   "source": [
    "print('P.0: \\n', lhs)\n",
    "print('0.P: \\n',rhs)"
   ]
  },
  {
   "cell_type": "markdown",
   "metadata": {},
   "source": [
    "#### Dimensions on matrix multiplication: "
   ]
  },
  {
   "cell_type": "code",
   "execution_count": 13,
   "metadata": {},
   "outputs": [],
   "source": [
    "a,b,c = 7,8,9\n",
    "mat_a_b = np.random.randn(a, b)\n",
    "mat_b_c = np.random.randn(b, c)\n",
    "mat_multi = np.dot(mat_a_b, mat_b_c)\n",
    "result_x, result_y = mat_multi.shape"
   ]
  },
  {
   "cell_type": "code",
   "execution_count": 14,
   "metadata": {},
   "outputs": [
    {
     "name": "stdout",
     "output_type": "stream",
     "text": [
      "7x8 matrix X 8x9 matrix = 7x9 matrix\n"
     ]
    }
   ],
   "source": [
    "print(f'{a}x{b} matrix X {b}x{c} matrix = {result_x}x{result_y} matrix')"
   ]
  },
  {
   "cell_type": "markdown",
   "metadata": {},
   "source": [
    "#### Task2: Inverse of a matrix: "
   ]
  },
  {
   "cell_type": "code",
   "execution_count": 15,
   "metadata": {},
   "outputs": [
    {
     "data": {
      "text/plain": [
       "array([[ 0.5       ,  0.66666667, -1.33333333],\n",
       "       [-1.        , -0.85714286,  2.14285714],\n",
       "       [ 0.5       ,  0.23809524, -0.76190476]])"
      ]
     },
     "execution_count": 15,
     "metadata": {},
     "output_type": "execute_result"
    }
   ],
   "source": [
    "Q_inv = np.linalg.inv(Q)\n",
    "Q_inv"
   ]
  },
  {
   "cell_type": "markdown",
   "metadata": {},
   "source": [
    "#### Task3: Comparison of time between numpy and loops:"
   ]
  },
  {
   "cell_type": "code",
   "execution_count": 16,
   "metadata": {},
   "outputs": [],
   "source": [
    "import time\n",
    "size = 2000\n",
    "numpy_mat_A = np.random.randn(size, size)\n",
    "numpy_mat_B = np.random.randn(size, size)\n",
    "list_mat_A = [list(i) for i in numpy_mat_A]\n",
    "list_mat_B = [list(i) for i in numpy_mat_B]"
   ]
  },
  {
   "cell_type": "code",
   "execution_count": 17,
   "metadata": {},
   "outputs": [],
   "source": [
    "loop_st = time.time()\n",
    "list_mat_C = []\n",
    "for i in range(size):\n",
    "    row = []\n",
    "    for j in range(size):\n",
    "        row.append(list_mat_A[i][j] + list_mat_B[i][j])\n",
    "    list_mat_C.append(row)\n",
    "loop_ed = time.time()"
   ]
  },
  {
   "cell_type": "code",
   "execution_count": 18,
   "metadata": {},
   "outputs": [],
   "source": [
    "numpy_st = time.time()\n",
    "numpy_mat_C = numpy_mat_A + numpy_mat_B\n",
    "numpy_ed = time.time()"
   ]
  },
  {
   "cell_type": "code",
   "execution_count": 19,
   "metadata": {},
   "outputs": [
    {
     "name": "stdout",
     "output_type": "stream",
     "text": [
      "Loops:  1.3093974590301514\n",
      "Numpy:  0.02393627166748047\n"
     ]
    }
   ],
   "source": [
    "print('Loops: ', loop_ed - loop_st)\n",
    "print('Numpy: ', numpy_ed - numpy_st)"
   ]
  },
  {
   "cell_type": "markdown",
   "metadata": {},
   "source": [
    "#### Conclusion: Numpy is way much faster than the normal loops. "
   ]
  }
 ],
 "metadata": {
  "kernelspec": {
   "display_name": "Python 3",
   "language": "python",
   "name": "python3"
  },
  "language_info": {
   "codemirror_mode": {
    "name": "ipython",
    "version": 3
   },
   "file_extension": ".py",
   "mimetype": "text/x-python",
   "name": "python",
   "nbconvert_exporter": "python",
   "pygments_lexer": "ipython3",
   "version": "3.7.6"
  }
 },
 "nbformat": 4,
 "nbformat_minor": 5
}
