{
 "cells": [
  {
   "cell_type": "markdown",
   "metadata": {},
   "source": [
    "# Machine Learning(ML): Assignment 1\n",
    "### Charvi Dave J015"
   ]
  },
  {
   "cell_type": "markdown",
   "metadata": {},
   "source": [
    "##### Day 0"
   ]
  },
  {
   "cell_type": "code",
   "execution_count": 1,
   "metadata": {
    "scrolled": true
   },
   "outputs": [
    {
     "name": "stdout",
     "output_type": "stream",
     "text": [
      "charvi\n",
      "Hello, World.\n",
      "charvi\n"
     ]
    }
   ],
   "source": [
    "# Read a full line of input from stdin and save it to our dynamically typed variable, input_string.\n",
    "input_string=input()\n",
    "\n",
    "# Print a string literal saying \"Hello, World.\" to stdout. \n",
    "print('Hello, World.')\n",
    "\n",
    "# TODO: Write a line of code here that prints the contents of input_string to stdout.\n",
    "print(input_string)"
   ]
  },
  {
   "cell_type": "markdown",
   "metadata": {},
   "source": [
    "##### Day 1"
   ]
  },
  {
   "cell_type": "code",
   "execution_count": 2,
   "metadata": {},
   "outputs": [
    {
     "name": "stdout",
     "output_type": "stream",
     "text": [
      "5\n",
      "7\n",
      "11\n",
      "9\n",
      "11.0\n",
      "HackerRank 11\n"
     ]
    }
   ],
   "source": [
    "a=4\n",
    "b=4.0\n",
    "c='HackerRank '\n",
    "# Declare second integer, double, and String variables.\n",
    "d=3\n",
    "e=7.0\n",
    "f='Passed'\n",
    "\n",
    "# Read and save an integer, double, and String to your variables.\n",
    "j = int(input())\n",
    "o = float(input())\n",
    "g = input()\n",
    "\n",
    "# Print the sum of both integer variables on a new line.\n",
    "print(a+j)\n",
    "\n",
    "# Print the sum of the double variables on a new line.\n",
    "print(b+o)\n",
    "\n",
    "# Concatenate and print the String variables on a new line\n",
    "print(c+g)\n",
    "# The 's' variable above should be printed first."
   ]
  },
  {
   "cell_type": "markdown",
   "metadata": {},
   "source": [
    "##### Day 2 "
   ]
  },
  {
   "cell_type": "code",
   "execution_count": 3,
   "metadata": {},
   "outputs": [
    {
     "name": "stdout",
     "output_type": "stream",
     "text": [
      "21\n",
      "3\n",
      "4\n",
      "The total meal cost is 22 dollars.\n"
     ]
    }
   ],
   "source": [
    "mealCost = float(input())\n",
    "tip = int(input())\n",
    "tax = int(input())\n",
    "tip=tip*mealCost/100;\n",
    "tax=tax*mealCost/100;\n",
    "totalcost=mealCost+tip+tax;\n",
    "\n",
    "print (\"The total meal cost is %s dollars.\" %str(int(round(totalcost, 0))))"
   ]
  },
  {
   "cell_type": "markdown",
   "metadata": {},
   "source": [
    "##### Day 3"
   ]
  },
  {
   "cell_type": "code",
   "execution_count": 4,
   "metadata": {},
   "outputs": [
    {
     "name": "stdout",
     "output_type": "stream",
     "text": [
      "7\n",
      "Weird\n"
     ]
    }
   ],
   "source": [
    "import sys\n",
    "\n",
    "\n",
    "n = int(input().strip())\n",
    "\n",
    "# if 'n' is NOT evenly divisible by 2 (i.e.: n is odd)\n",
    "if n%2==1:\n",
    "    answer = \"Weird\"\n",
    "\n",
    "elif n>20:\n",
    "    answer = \"Not Weird\"\n",
    "\n",
    "elif n>=6:\n",
    "    answer = \"Weird\"\n",
    "\n",
    "else:\n",
    "    answer = \"Not Weird\"\n",
    "\n",
    "print(answer)"
   ]
  },
  {
   "cell_type": "markdown",
   "metadata": {},
   "source": [
    "##### Day 4"
   ]
  },
  {
   "cell_type": "code",
   "execution_count": 5,
   "metadata": {},
   "outputs": [
    {
     "name": "stdout",
     "output_type": "stream",
     "text": [
      "3\n",
      "7\n",
      "You are young.\n",
      "You are young.\n",
      "\n",
      "19\n",
      "You are old.\n",
      "You are old.\n",
      "\n",
      "11\n",
      "You are young.\n",
      "You are a teenager.\n",
      "\n"
     ]
    }
   ],
   "source": [
    "class Person:\n",
    "    def __init__(self,initialAge):\n",
    "        # Add some more code to run some checks on initialAge\n",
    "        if(initialAge > 0):\n",
    "            self.age = initialAge\n",
    "        else:\n",
    "            print(\"Age is not valid, setting age to 0.\")\n",
    "            self.age = 0\n",
    "\n",
    "    def amIOld(self):\n",
    "        # Do some computations in here and print out the correct statement to the console\n",
    "        if self.age >= 18:\n",
    "            print(\"You are old.\")\n",
    "        elif self.age >= 13:\n",
    "            print(\"You are a teenager.\")\n",
    "        else: # age < 13\n",
    "            print(\"You are young.\")\n",
    "\n",
    "    def yearPasses(self):\n",
    "        # Increment the age of the person in here\n",
    "        self.age += 1\n",
    "        \n",
    "age = int(input())\n",
    "for i in range(0,age):\n",
    "    age=int(input())\n",
    "    p=Person(age)\n",
    "    p.amIOld()\n",
    "    for j in range(0,3):\n",
    "        p.yearPasses()\n",
    "    p.amIOld()\n",
    "    print(\"\")"
   ]
  },
  {
   "cell_type": "markdown",
   "metadata": {},
   "source": [
    "##### Day 5"
   ]
  },
  {
   "cell_type": "code",
   "execution_count": 6,
   "metadata": {},
   "outputs": [
    {
     "name": "stdout",
     "output_type": "stream",
     "text": [
      "8\n",
      "8 x 1 = 8\n",
      "8 x 2 = 16\n",
      "8 x 3 = 24\n",
      "8 x 4 = 32\n",
      "8 x 5 = 40\n",
      "8 x 6 = 48\n",
      "8 x 7 = 56\n",
      "8 x 8 = 64\n",
      "8 x 9 = 72\n",
      "8 x 10 = 80\n"
     ]
    }
   ],
   "source": [
    "import sys\n",
    "\n",
    "\n",
    "N = int(input().strip())\n",
    "for i in range(1, 11):\n",
    "    print(str(N) +\" x \" + str(i) + \" = \" + str(N*i))"
   ]
  },
  {
   "cell_type": "markdown",
   "metadata": {},
   "source": [
    "##### Day 6 "
   ]
  },
  {
   "cell_type": "code",
   "execution_count": 7,
   "metadata": {},
   "outputs": [
    {
     "name": "stdout",
     "output_type": "stream",
     "text": [
      "3\n",
      "6\n",
      "6 \n",
      "7\n",
      "7 \n",
      "1\n",
      "1 \n"
     ]
    }
   ],
   "source": [
    "import sys\n",
    "\n",
    "def Even(s):\n",
    "    l = len(s)\n",
    "    output = \"\"\n",
    "    for i in range(0,l,2):\n",
    "        output += s[i]\n",
    "    return output\n",
    "\n",
    "def Odd(s):\n",
    "    l = len(s)\n",
    "    output = \"\"\n",
    "    for i in range(1,l,2):\n",
    "        output += s[i]\n",
    "    return output\n",
    "\n",
    "f = int(input())\n",
    "for a0 in range(0,f):\n",
    "    s = input()\n",
    "    print(Even(s) + \" \" + Odd(s))"
   ]
  },
  {
   "cell_type": "markdown",
   "metadata": {},
   "source": [
    "##### Day 7"
   ]
  },
  {
   "cell_type": "code",
   "execution_count": 11,
   "metadata": {},
   "outputs": [
    {
     "name": "stdout",
     "output_type": "stream",
     "text": [
      "3\n",
      "2 56 7\n",
      "7 56 2 \n"
     ]
    }
   ],
   "source": [
    "import sys\n",
    "\n",
    "\n",
    "p = int(input().strip())\n",
    "arr = list(map(int,input().rstrip().split(' ')))\n",
    "answer = \"\"\n",
    "for i in range(len(arr)-1 , -1, -1):\n",
    "    answer += str(arr[i]) + \" \"\n",
    "\n",
    "print(answer)"
   ]
  },
  {
   "cell_type": "markdown",
   "metadata": {},
   "source": [
    "##### Day 8"
   ]
  },
  {
   "cell_type": "code",
   "execution_count": 12,
   "metadata": {},
   "outputs": [
    {
     "name": "stdout",
     "output_type": "stream",
     "text": [
      "Enter number of phone numbers: 2\n",
      "Enter number: charvi 9848494040\n",
      "Enter number: hetvi 3739505544\n",
      "Enter query: abel\n",
      "Not found\n",
      "Enter query: charvi\n",
      "charvi=9848494040\n",
      "Enter query: done\n"
     ]
    }
   ],
   "source": [
    "import sys\n",
    "inputList=[]\n",
    "num=int(input(\"Enter number of phone numbers: \"))\n",
    "for i in range(num):\n",
    "    inputList.append(input(\"Enter number: \"))\n",
    "\n",
    "entries=inputList\n",
    "phoneBook={}\n",
    "for entry in entries:\n",
    "    name,p_number=entry.split()\n",
    "    phoneBook[name]=p_number \n",
    "while True:\n",
    "    query=input(\"Enter query: \")\n",
    "    if query.lower()==\"done\":\n",
    "        break\n",
    "    else:\n",
    "        stripQuery=query.rstrip() #Eliminates the newline character\n",
    "        if stripQuery in phoneBook:\n",
    "            print(stripQuery+\"=\"+str(phoneBook[stripQuery]))\n",
    "        else:\n",
    "            print(\"Not found\")"
   ]
  },
  {
   "cell_type": "markdown",
   "metadata": {},
   "source": [
    "##### Day 9 "
   ]
  },
  {
   "cell_type": "code",
   "execution_count": 13,
   "metadata": {},
   "outputs": [
    {
     "name": "stdout",
     "output_type": "stream",
     "text": [
      "Enter a number: 5\n",
      "120\n"
     ]
    }
   ],
   "source": [
    "def factorial(n):\n",
    "    if n<=1:\n",
    "        return 1\n",
    "    else:\n",
    "        return n*factorial(n-1)\n",
    "\n",
    "n = int(input(\"Enter a number: \"))\n",
    "print(factorial(n))"
   ]
  },
  {
   "cell_type": "markdown",
   "metadata": {},
   "source": [
    "##### Day 10"
   ]
  },
  {
   "cell_type": "code",
   "execution_count": 16,
   "metadata": {},
   "outputs": [
    {
     "name": "stdout",
     "output_type": "stream",
     "text": [
      "72\n",
      "1\n"
     ]
    }
   ],
   "source": [
    "import sys\n",
    "\n",
    "def max(a,b):\n",
    "    return a if a>b else b\n",
    "\n",
    "n = int(input().strip())\n",
    "\n",
    "max_num = 0\n",
    "count = 0\n",
    "\n",
    "while n:\n",
    "    while n&1:\n",
    "        count += 1\n",
    "        n>>=1\n",
    "    max_num = max(count, max_num)\n",
    "    if not n&1:\n",
    "        count = 0\n",
    "        n>>=1\n",
    "\n",
    "print(max_num)"
   ]
  },
  {
   "cell_type": "markdown",
   "metadata": {},
   "source": [
    "##### Day 11 "
   ]
  },
  {
   "cell_type": "code",
   "execution_count": 19,
   "metadata": {},
   "outputs": [
    {
     "name": "stdout",
     "output_type": "stream",
     "text": [
      "1 1 1 1 1 1\n",
      "2 2 2 2 2 2\n",
      "3 1 2 1 2 3\n",
      "1 0 0 1 1 1\n",
      "4 1 1 2 2 1\n",
      "1 1 3 3 3 1\n",
      "13\n"
     ]
    }
   ],
   "source": [
    "import sys\n",
    "\n",
    "\n",
    "arr = []\n",
    "for arr_i in range(6):\n",
    "   arr_temp = list(map(int,input().strip().split(' ')))\n",
    "   arr.append(arr_temp)\n",
    "max = 0\n",
    "\n",
    "for i in range(0,4):\n",
    "    for j in range(0,4):\n",
    "        sum = 0\n",
    "        sum= arr[i][j]+arr[i][j+1]+arr[i][j+2]+arr[i+1][j+1]+arr[i+2][j]+arr[i+2][j+1]+arr[i+2][j+2]\n",
    "        if i==0 and j==0:\n",
    "            max = sum\n",
    "        if sum > max:\n",
    "            max =sum\n",
    "\n",
    "print(max)"
   ]
  },
  {
   "cell_type": "markdown",
   "metadata": {},
   "source": [
    "##### Day 12"
   ]
  },
  {
   "cell_type": "code",
   "execution_count": 20,
   "metadata": {},
   "outputs": [
    {
     "name": "stdout",
     "output_type": "stream",
     "text": [
      "Charvi Dave 1015\n",
      "97\n",
      "87\n",
      "Name: Dave, Charvi\n",
      "ID: 1015\n",
      "Grade: E\n"
     ]
    }
   ],
   "source": [
    "class person:\n",
    "    def __init__(self,firstName,lastName,idNumber):\n",
    "        self.firstName=firstName\n",
    "        self.lastName=lastName\n",
    "        self.idNumber=idNumber\n",
    "    def printPerson(self):\n",
    "        print(\"Name:\",self.lastName+\",\",self.firstName)\n",
    "        print(\"ID:\",self.idNumber)\n",
    "\n",
    "class student(person):\n",
    "    def __init__(self,fName,lName,sId,scores):\n",
    "        super().__init__(fName,lName,sId)\n",
    "        self.scores=scores\n",
    "    def calculate(self):\n",
    "        avg=0.0\n",
    "        for score in self.scores:\n",
    "            avg += score\n",
    "\n",
    "        avg = avg/len(self.scores)\n",
    "        if avg < 40:\n",
    "            return 'T'\n",
    "        elif avg < 55:\n",
    "            return 'D'\n",
    "        elif avg < 70:\n",
    "            return 'P'\n",
    "        elif avg < 80:\n",
    "            return 'A'\n",
    "        elif avg < 90:\n",
    "            return 'E'\n",
    "        else:\n",
    "            return 'O'\n",
    "\n",
    "line = input().split()  \n",
    "firstName = line[0]  \n",
    "lastName = line[1]  \n",
    "idNum = line[2]  \n",
    "numScores = int(input()) # not needed for Python  \n",
    "scores = list( map(int, input().split()) )  \n",
    "s = student(firstName, lastName, idNum, scores)  \n",
    "s.printPerson()  \n",
    "print(\"Grade:\", s.calculate())"
   ]
  },
  {
   "cell_type": "markdown",
   "metadata": {},
   "source": [
    "##### Day 13"
   ]
  },
  {
   "cell_type": "code",
   "execution_count": 21,
   "metadata": {},
   "outputs": [
    {
     "name": "stdout",
     "output_type": "stream",
     "text": [
      "Enter the title of the book: We were liars\n",
      "Enter the author of the book: Erin Lockhart\n",
      "Enter the price of the book: 340\n",
      "Title: We were liars\n",
      "Author: Erin Lockhart\n",
      "Price: 340\n"
     ]
    }
   ],
   "source": [
    "from abc import ABCMeta, abstractmethod\n",
    "\n",
    "class Book(object, metaclass=ABCMeta):\n",
    "    def __init__(self,title,author):\n",
    "        self.title=title\n",
    "        self.author=author\n",
    "        @abstractmethod\n",
    "        def display(): pass\n",
    "\n",
    "class MyBook(Book):\n",
    "    def __init__(self, title, author, price):\n",
    "        Book.__init__(self, title, author)\n",
    "        self.price = price\n",
    "\n",
    "    def display(self):\n",
    "        print(\"Title: %s\\nAuthor: %s\\nPrice: %s\"%(title,author,price))\n",
    "\n",
    "title=input(\"Enter the title of the book: \")\n",
    "author=input(\"Enter the author of the book: \")\n",
    "price=int(input(\"Enter the price of the book: \"))\n",
    "new_novel=MyBook(title,author,price)\n",
    "new_novel.display()"
   ]
  },
  {
   "cell_type": "markdown",
   "metadata": {},
   "source": [
    "##### Day 14"
   ]
  },
  {
   "cell_type": "code",
   "execution_count": 7,
   "metadata": {},
   "outputs": [
    {
     "name": "stdout",
     "output_type": "stream",
     "text": [
      "Enter numbers: 2 7 8 11 15\n",
      "13\n"
     ]
    }
   ],
   "source": [
    "import numpy as np\n",
    "class Difference:\n",
    "    def __init__(self,a):\n",
    "        self.elements=a\n",
    "        self.max_diff=0\n",
    "    def calc_diff(self):\n",
    "        self.max_diff=np.max(a)-np.min(a)\n",
    "        return self.max_diff\n",
    "a=[int(e) for e in input(\"Enter numbers: \").split(' ')]\n",
    "diff=Difference(a)\n",
    "print(diff.calc_diff())"
   ]
  },
  {
   "cell_type": "markdown",
   "metadata": {},
   "source": [
    "##### Day 15"
   ]
  },
  {
   "cell_type": "code",
   "execution_count": 25,
   "metadata": {},
   "outputs": [
    {
     "name": "stdout",
     "output_type": "stream",
     "text": [
      "4\n",
      "20\n",
      "1\n",
      "45\n",
      "3\n",
      "20 1 45 3 "
     ]
    }
   ],
   "source": [
    "class Node:\n",
    "    def __init__(self,data):\n",
    "        self.data = data\n",
    "        self.next = None \n",
    "class Solution: \n",
    "    def display(self,head):\n",
    "        current = head\n",
    "        while current:\n",
    "            print(current.data,end=' ')\n",
    "            current = current.next\n",
    "\n",
    "    def insert(self,head,data):\n",
    "        if head is None:\n",
    "            head = Node(data)\n",
    "        elif head.next is None:\n",
    "            head.next = Node(data)\n",
    "        else: \n",
    "            self.insert(head.next, data)\n",
    "        return head\n",
    "\n",
    "mylist= Solution()\n",
    "T=int(input())\n",
    "head=None\n",
    "for i in range(T):\n",
    "    data=int(input())\n",
    "    head=mylist.insert(head,data)    \n",
    "mylist.display(head); \t  "
   ]
  },
  {
   "cell_type": "markdown",
   "metadata": {},
   "source": [
    "#### Day 16 "
   ]
  },
  {
   "cell_type": "code",
   "execution_count": 26,
   "metadata": {},
   "outputs": [
    {
     "name": "stdout",
     "output_type": "stream",
     "text": [
      "cd\n",
      "Bad String\n"
     ]
    }
   ],
   "source": [
    "import sys\n",
    "S=input().strip()\n",
    "try:\n",
    "    r=int(S)\n",
    "    print(r)\n",
    "except ValueError:\n",
    "    print(\"Bad String\")"
   ]
  },
  {
   "cell_type": "markdown",
   "metadata": {},
   "source": [
    "##### Day 17 "
   ]
  },
  {
   "cell_type": "code",
   "execution_count": 27,
   "metadata": {},
   "outputs": [
    {
     "name": "stdout",
     "output_type": "stream",
     "text": [
      "2\n",
      "7 11\n",
      "1977326743\n",
      "2 7\n",
      "128\n"
     ]
    }
   ],
   "source": [
    "class Calculator(Exception):\n",
    "    def power(self,n,p):\n",
    "        if (n<0 or p<0):\n",
    "            raise Calculator(\"n and p should be non-negative\")\n",
    "        else:\n",
    "            return pow(n,p)\n",
    "            \n",
    "myCalculator=Calculator()\n",
    "T=int(input())\n",
    "for i in range(T):\n",
    "    n,p = map(int, input().split())\n",
    "    try:\n",
    "        ans=myCalculator.power(n,p)\n",
    "        print(ans)\n",
    "    except Exception as e:\n",
    "        print(e)   "
   ]
  },
  {
   "cell_type": "markdown",
   "metadata": {},
   "source": [
    "##### Day 18"
   ]
  },
  {
   "cell_type": "code",
   "execution_count": 28,
   "metadata": {},
   "outputs": [
    {
     "name": "stdout",
     "output_type": "stream",
     "text": [
      "lol\n",
      "The word, lol, is a palindrome.\n"
     ]
    }
   ],
   "source": [
    "import sys\n",
    "from collections import deque\n",
    "class Solution:\n",
    "    def __init__(self):\n",
    "        self.stack = deque()\n",
    "        self.queue = deque()\n",
    "    \n",
    "    def pushCharacter(self,char):\n",
    "        self.stack.append(char)\n",
    "    \n",
    "    def popCharacter(self):\n",
    "        return self.stack.pop()\n",
    "    \n",
    "    def enqueueCharacter(self,char):\n",
    "        self.queue.append(char)\n",
    "    \n",
    "    def dequeueCharacter(self):\n",
    "        return self.queue.popleft();\n",
    "    \n",
    "# read the string s\n",
    "s=input()\n",
    "#Create the Solution class object\n",
    "obj=Solution()   \n",
    "\n",
    "l=len(s)\n",
    "# push/enqueue all the characters of string s to stack\n",
    "for i in range(l):\n",
    "    obj.pushCharacter(s[i])\n",
    "    obj.enqueueCharacter(s[i])\n",
    "    \n",
    "isPalindrome=True\n",
    "'''\n",
    "pop the top character from stack\n",
    "dequeue the first character from queue\n",
    "compare both the characters\n",
    "''' \n",
    "for i in range(l // 2):\n",
    "    if obj.popCharacter()!=obj.dequeueCharacter():\n",
    "        isPalindrome=False\n",
    "        break\n",
    "#finally print whether string s is palindrome or not.\n",
    "if isPalindrome:\n",
    "    print(\"The word, \"+s+\", is a palindrome.\")\n",
    "else:\n",
    "    print(\"The word, \"+s+\", is not a palindrome.\")    "
   ]
  },
  {
   "cell_type": "markdown",
   "metadata": {},
   "source": [
    "##### Day 19 "
   ]
  },
  {
   "cell_type": "code",
   "execution_count": 29,
   "metadata": {},
   "outputs": [
    {
     "name": "stdout",
     "output_type": "stream",
     "text": [
      "7\n",
      "I implemented: AdvancedArithmetic\n",
      "8\n"
     ]
    }
   ],
   "source": [
    "class AdvancedArithmetic(object):\n",
    "    def divisorSum(n):\n",
    "        raise NotImplementedError\n",
    "        \n",
    "class Calculator(AdvancedArithmetic):\n",
    "    def divisorSum(self, n):\n",
    "        s = 0\n",
    "        for i in range(1,n+1):\n",
    "            if (n%i == 0):\n",
    "                s+=i\n",
    "        return s\n",
    "       \n",
    "        \n",
    "n = int(input())\n",
    "my_calculator = Calculator()\n",
    "s = my_calculator.divisorSum(n)\n",
    "print(\"I implemented: \" + type(my_calculator).__bases__[0].__name__)\n",
    "print(s)"
   ]
  },
  {
   "cell_type": "markdown",
   "metadata": {},
   "source": [
    "##### Day 20 "
   ]
  },
  {
   "cell_type": "code",
   "execution_count": 9,
   "metadata": {},
   "outputs": [
    {
     "name": "stdout",
     "output_type": "stream",
     "text": [
      "3\n",
      "5 4 3\n",
      "Array is sorted in 3 swaps\n",
      "First Element: 3\n",
      "Last Element: 5\n"
     ]
    }
   ],
   "source": [
    "import math\n",
    "import os\n",
    "import random\n",
    "import re\n",
    "import sys\n",
    "\n",
    "n=int(input().strip())\n",
    "a=list(map(int,input().rstrip().split()))\n",
    "no_swaps=0\n",
    "for i in range(0,n):\n",
    "    for j in range(0,n-1):\n",
    "        if a[j]>a[j+1]:\n",
    "            temp=a[j]\n",
    "            a[j]=a[j+1]\n",
    "            a[j+1]=temp\n",
    "            no_swaps+=1\n",
    "    if no_swaps==0:\n",
    "        break\n",
    "print(f\"Array is sorted in {str(no_swaps)} swaps\")\n",
    "print(f\"First Element: {str(a[0])}\")\n",
    "print(f\"Last Element: {str(a[n-1])}\")"
   ]
  },
  {
   "cell_type": "markdown",
   "metadata": {},
   "source": [
    "##### Day 22"
   ]
  },
  {
   "cell_type": "code",
   "execution_count": 1,
   "metadata": {},
   "outputs": [
    {
     "name": "stdout",
     "output_type": "stream",
     "text": [
      "Enter a number: 3\n",
      "1\n",
      "7\n",
      "6\n",
      "Height of the tree is:  2\n"
     ]
    }
   ],
   "source": [
    "class Node:\n",
    "    def __init__(self,data):\n",
    "        self.right=self.left=None\n",
    "        self.data = data\n",
    "class Solution:\n",
    "    def insert(self,root,data):\n",
    "        if root==None:\n",
    "            return Node(data)\n",
    "        else:\n",
    "            if data<=root.data:\n",
    "                cur=self.insert(root.left,data)\n",
    "                root.left=cur\n",
    "            else:\n",
    "                cur=self.insert(root.right,data)\n",
    "                root.right=cur\n",
    "        return root\n",
    "    def getHeight(self,root):\n",
    "        if root is None or (root.left is None and root.right is None):\n",
    "            return 0\n",
    "        else:\n",
    "            return max(self.getHeight(root.left),self.getHeight(root.right))+1\n",
    "\n",
    "T=int(input(\"Enter a number: \"))\n",
    "myTree=Solution()\n",
    "root=None\n",
    "for i in range(T):\n",
    "    data=int(input())\n",
    "    root=myTree.insert(root,data)\n",
    "height=myTree.getHeight(root)\n",
    "print(\"Height of the tree is: \",height)      "
   ]
  },
  {
   "cell_type": "markdown",
   "metadata": {},
   "source": [
    "##### Day 23 "
   ]
  },
  {
   "cell_type": "code",
   "execution_count": 2,
   "metadata": {},
   "outputs": [
    {
     "name": "stdout",
     "output_type": "stream",
     "text": [
      "Enter a number here: 5\n",
      "7\n",
      "11\n",
      "42\n",
      "223\n",
      "43\n",
      "7 11 42 223 43\n"
     ]
    }
   ],
   "source": [
    "import sys\n",
    "\n",
    "class Node:\n",
    "    def __init__(self,data):\n",
    "        self.right=self.left=None\n",
    "        self.data = data\n",
    "class Solution:\n",
    "    def insert(self,root,data):\n",
    "        if root==None:\n",
    "            return Node(data)\n",
    "        else:\n",
    "            if data<=root.data:\n",
    "                cur=self.insert(root.left,data)\n",
    "                root.left=cur\n",
    "            else:\n",
    "                cur=self.insert(root.right,data)\n",
    "                root.right=cur\n",
    "        return root\n",
    "    def levelOrder(self,root):\n",
    "        output = \"\"\n",
    "        queue = [root]\n",
    "        while queue:\n",
    "            current = queue.pop(0)\n",
    "            output += str(current.data) + \" \"\n",
    "            if current.left:\n",
    "                queue.append(current.left)\n",
    "            if current.right:\n",
    "                queue.append(current.right)\n",
    "        print(output[:-1])\n",
    "\n",
    "T=int(input(\"Enter a number here: \"))\n",
    "myTree=Solution()\n",
    "root=None\n",
    "for i in range(T):\n",
    "    data=int(input())\n",
    "    root=myTree.insert(root,data)\n",
    "myTree.levelOrder(root)"
   ]
  },
  {
   "cell_type": "markdown",
   "metadata": {},
   "source": [
    "##### Day 24 "
   ]
  },
  {
   "cell_type": "code",
   "execution_count": 3,
   "metadata": {},
   "outputs": [
    {
     "name": "stdout",
     "output_type": "stream",
     "text": [
      "7\n",
      "3\n",
      "3\n",
      "4\n",
      "1\n",
      "65\n",
      "8\n",
      "8\n",
      "3 4 1 65 8 "
     ]
    }
   ],
   "source": [
    "class Node:\n",
    "    def __init__(self,data):\n",
    "        self.data = data\n",
    "        self.next = None \n",
    "class Solution: \n",
    "    def insert(self,head,data):\n",
    "            p = Node(data)           \n",
    "            if head==None:\n",
    "                head=p\n",
    "            elif head.next==None:\n",
    "                head.next=p\n",
    "            else:\n",
    "                start=head\n",
    "                while(start.next!=None):\n",
    "                    start=start.next\n",
    "                start.next=p\n",
    "            return head  \n",
    "    def display(self,head):\n",
    "        current = head\n",
    "        while current:\n",
    "            print(current.data,end=' ')\n",
    "            current = current.next\n",
    "    def removeDuplicates(self,head):\n",
    "        current = head\n",
    "        while (current.next):\n",
    "            if (current.data == current.next.data):\n",
    "                current.next = current.next.next\n",
    "            else:\n",
    "                current = current.next\n",
    "\n",
    "        return head      \n",
    "            \n",
    "mylist= Solution()\n",
    "T=int(input())\n",
    "head=None\n",
    "for i in range(T):\n",
    "    data=int(input())\n",
    "    head=mylist.insert(head,data)    \n",
    "head=mylist.removeDuplicates(head)\n",
    "mylist.display(head); "
   ]
  },
  {
   "cell_type": "markdown",
   "metadata": {},
   "source": [
    "##### Day 25 "
   ]
  },
  {
   "cell_type": "code",
   "execution_count": 1,
   "metadata": {},
   "outputs": [
    {
     "name": "stdout",
     "output_type": "stream",
     "text": [
      "7\n",
      "2\n",
      "Prime\n",
      "3\n",
      "Prime\n",
      "80\n",
      "Not prime\n",
      "9\n",
      "Not prime\n",
      "11\n",
      "Prime\n",
      "5\n",
      "Prime\n",
      "6\n",
      "Not prime\n"
     ]
    }
   ],
   "source": [
    "import math\n",
    "\n",
    "def check_prime(num):\n",
    "    if num is 1:\n",
    "        return \"Not prime\"\n",
    "    sq = int(math.sqrt(num))\n",
    "    for x in range(2, sq+1):\n",
    "        if num % x is 0:\n",
    "            return \"Not prime\"\n",
    "    return \"Prime\"\n",
    "\n",
    "\n",
    "t = int(input())\n",
    "for i in range(t):\n",
    "    number = int(input())\n",
    "    print(check_prime(number))"
   ]
  },
  {
   "cell_type": "markdown",
   "metadata": {},
   "source": [
    "### Day 26 "
   ]
  },
  {
   "cell_type": "code",
   "execution_count": 2,
   "metadata": {},
   "outputs": [
    {
     "name": "stdout",
     "output_type": "stream",
     "text": [
      "21 72 31\n",
      "22 56 45\n",
      "0\n"
     ]
    }
   ],
   "source": [
    "da, ma, ya = input().split(' ')\n",
    "da = int(da)\n",
    "ma = int(ma)\n",
    "ya = int(ya)\n",
    "de, me, ye = input().split(' ')\n",
    "de = int(de)\n",
    "me = int(me)\n",
    "ye = int(ye)\n",
    "fine = 0\n",
    "if(ye==ya):\n",
    "    if(me < ma):\n",
    "        fine = (ma - me) * 500\n",
    "    elif((me == ma) and (de < da)):\n",
    "        fine = (da - de) * 15\n",
    "elif(ye < ya):\n",
    "    fine = 10000\n",
    "\n",
    "print( fine )"
   ]
  },
  {
   "cell_type": "markdown",
   "metadata": {},
   "source": [
    "##### Day 27 "
   ]
  },
  {
   "cell_type": "code",
   "execution_count": 3,
   "metadata": {},
   "outputs": [
    {
     "name": "stdout",
     "output_type": "stream",
     "text": [
      "OK\n"
     ]
    }
   ],
   "source": [
    "def minimum_index(seq):\n",
    "    if len(seq) == 0:\n",
    "        raise ValueError(\"Cannot get the minimum value index from an empty sequence\")\n",
    "    min_idx = 0\n",
    "    for i in range(1, len(seq)):\n",
    "        if seq[i] < seq[min_idx]:\n",
    "            min_idx = i\n",
    "    return min_idx\n",
    "\n",
    "def minimum_index(seq):\n",
    "    if len(seq) == 0:\n",
    "        raise ValueError(\"Cannot get the minimum value index from an empty sequence\")\n",
    "    min_idx = 0\n",
    "    for i in range(1, len(seq)):\n",
    "        if seq[i] < seq[min_idx]:\n",
    "            min_idx = i\n",
    "    return min_idx\n",
    "\n",
    "class TestDataEmptyArray(object):\n",
    "    \n",
    "    @staticmethod\n",
    "    def get_array():\n",
    "        return []\n",
    "\n",
    "class TestDataUniqueValues(object):\n",
    "\n",
    "    @staticmethod\n",
    "    def get_array():\n",
    "        return [7, 4, 3, 8, 14]\n",
    "\n",
    "    @staticmethod\n",
    "    def get_expected_result():\n",
    "        return 2\n",
    "\n",
    "class TestDataExactlyTwoDifferentMinimums(object):\n",
    "\n",
    "    @staticmethod\n",
    "    def get_array():\n",
    "        return [7, 4, 3, 8, 3, 14]\n",
    "\n",
    "    @staticmethod\n",
    "    def get_expected_result():\n",
    "        return 2\n",
    "\n",
    "def TestWithEmptyArray():\n",
    "    try:\n",
    "        seq = TestDataEmptyArray.get_array()\n",
    "        result = minimum_index(seq)\n",
    "    except ValueError as e:\n",
    "        pass\n",
    "    else:\n",
    "        assert False\n",
    "\n",
    "        \n",
    "\n",
    "def TestWithUniqueValues():\n",
    "    seq = TestDataUniqueValues.get_array()\n",
    "    assert len(seq) >= 2\n",
    "\n",
    "    assert len(list(set(seq))) == len(seq)\n",
    "\n",
    "    expected_result = TestDataUniqueValues.get_expected_result()\n",
    "    result = minimum_index(seq)\n",
    "    assert result == expected_result\n",
    "\n",
    "\n",
    "def TestiWithExactyTwoDifferentMinimums():\n",
    "    seq = TestDataExactlyTwoDifferentMinimums.get_array()\n",
    "    assert len(seq) >= 2\n",
    "    tmp = sorted(seq)\n",
    "    assert tmp[0] == tmp[1] and (len(tmp) == 2 or tmp[1] < tmp[2])\n",
    "\n",
    "    expected_result = TestDataExactlyTwoDifferentMinimums.get_expected_result()\n",
    "    result = minimum_index(seq)\n",
    "    assert result == expected_result\n",
    "\n",
    "TestWithEmptyArray()\n",
    "TestWithUniqueValues()\n",
    "TestiWithExactyTwoDifferentMinimums()\n",
    "print(\"OK\")"
   ]
  },
  {
   "cell_type": "markdown",
   "metadata": {},
   "source": [
    "##### Day 28 "
   ]
  },
  {
   "cell_type": "code",
   "execution_count": 4,
   "metadata": {},
   "outputs": [
    {
     "name": "stdout",
     "output_type": "stream",
     "text": [
      "2\n",
      "charvi charvi@gmail.com\n",
      "hetvi hetvi@gmail.com\n",
      "hetvi\n"
     ]
    }
   ],
   "source": [
    "import math\n",
    "import os\n",
    "import random\n",
    "import re\n",
    "import sys\n",
    "\n",
    "\n",
    "\n",
    "if __name__ == '__main__':\n",
    "    N = int(input().strip())\n",
    "    names = []\n",
    "    for a0 in range(N):\n",
    "        firstName,emailID = input().strip().split(' ')\n",
    "        firstName,emailID = [str(firstName),str(emailID)]\n",
    "        match = re.search(r'[\\w\\.-]+@gmail.com', emailID)\n",
    "\n",
    "    if match:\n",
    "        names.append(firstName)\n",
    "names.sort()\n",
    "for name in names:\n",
    "    print( name )"
   ]
  },
  {
   "cell_type": "markdown",
   "metadata": {},
   "source": [
    "##### Day 29 "
   ]
  },
  {
   "cell_type": "code",
   "execution_count": 5,
   "metadata": {},
   "outputs": [],
   "source": [
    "import math\n",
    "import os\n",
    "import random\n",
    "import re\n",
    "import sys\n",
    "\n",
    "#\n",
    "# Complete the 'bitwiseAnd' function below.\n",
    "#\n",
    "# The function is expected to return an INTEGER.\n",
    "# The function accepts following parameters:\n",
    "#  1. INTEGER N\n",
    "#  2. INTEGER K\n",
    "#\n",
    "\n",
    "def bitwiseAnd(N, K):\n",
    "    import math\n",
    "import os\n",
    "import random\n",
    "import re\n",
    "import sys\n",
    "\n",
    "#\n",
    "# Complete the 'bitwiseAnd' function below.\n",
    "#\n",
    "# The function is expected to return an INTEGER.\n",
    "# The function accepts following parameters:\n",
    "#  1. INTEGER N\n",
    "#  2. INTEGER K\n",
    "#\n",
    "\n",
    "def bitwiseAnd(N, K):\n",
    "    if __name__ == '__main__':\n",
    "        fptr = open(os.environ['OUTPUT_PATH'], 'w')\n",
    "\n",
    "    t = int(input().strip())\n",
    "\n",
    "    for t_itr in range(t):\n",
    "        first_multiple_input = input().rstrip().split()\n",
    "\n",
    "        count = int(first_multiple_input[0])\n",
    "\n",
    "        lim = int(first_multiple_input[1])\n",
    "\n",
    "        res = bitwiseAnd(count, lim)\n",
    "\n",
    "        fptr.write(str(res) + '\\n')\n",
    "\n",
    "        fptr.close()"
   ]
  },
  {
   "cell_type": "code",
   "execution_count": 6,
   "metadata": {},
   "outputs": [
    {
     "name": "stdout",
     "output_type": "stream",
     "text": [
      "2\n",
      "4 7\n",
      "5\n",
      "23 11\n",
      "10\n"
     ]
    }
   ],
   "source": [
    "t=int(input().strip())\n",
    "for a0 in range(t):\n",
    "    n,k=input().strip().split(' ')\n",
    "    n,k=[int(n),int(k)]\n",
    "    print(k-1 if((k-1)|k)<=n else k-2)"
   ]
  },
  {
   "cell_type": "code",
   "execution_count": null,
   "metadata": {},
   "outputs": [],
   "source": []
  }
 ],
 "metadata": {
  "kernelspec": {
   "display_name": "Python 3",
   "language": "python",
   "name": "python3"
  },
  "language_info": {
   "codemirror_mode": {
    "name": "ipython",
    "version": 3
   },
   "file_extension": ".py",
   "mimetype": "text/x-python",
   "name": "python",
   "nbconvert_exporter": "python",
   "pygments_lexer": "ipython3",
   "version": "3.7.6"
  }
 },
 "nbformat": 4,
 "nbformat_minor": 5
}
